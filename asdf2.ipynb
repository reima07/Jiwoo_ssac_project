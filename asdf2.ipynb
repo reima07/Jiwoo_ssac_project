{
 "cells": [
  {
   "cell_type": "code",
   "execution_count": 1,
   "metadata": {},
   "outputs": [],
   "source": [
    "# API KEY를 환경변수로 관리하기 위한 설정 파일\n",
    "from dotenv import load_dotenv\n",
    "\n",
    "# API KEY 정보로드\n",
    "load_dotenv()\n",
    "\n",
    "from langchain.prompts import PromptTemplate\n"
   ]
  },
  {
   "cell_type": "code",
   "execution_count": 2,
   "metadata": {},
   "outputs": [
    {
     "data": {
      "text/plain": [
       "PromptTemplate(input_variables=['country'], template='{country}의 수도는 어디인가요?')"
      ]
     },
     "execution_count": 2,
     "metadata": {},
     "output_type": "execute_result"
    }
   ],
   "source": [
    "# template 정의\n",
    "template = \"{country}의 수도는 어디인가요?\"\n",
    "\n",
    "# from_template 메소드를 이용하여 PromptTemplate 객체 생성\n",
    "prompt_template = PromptTemplate.from_template(template)\n",
    "prompt_template\n"
   ]
  },
  {
   "cell_type": "code",
   "execution_count": 3,
   "metadata": {},
   "outputs": [
    {
     "data": {
      "text/plain": [
       "'대한민국의 수도는 어디인가요?'"
      ]
     },
     "execution_count": 3,
     "metadata": {},
     "output_type": "execute_result"
    }
   ],
   "source": [
    "# prompt 생성\n",
    "prompt = prompt_template.format(country=\"대한민국\")\n",
    "prompt\n"
   ]
  },
  {
   "cell_type": "code",
   "execution_count": 4,
   "metadata": {},
   "outputs": [
    {
     "data": {
      "text/plain": [
       "'미국의 수도는 어디인가요?'"
      ]
     },
     "execution_count": 4,
     "metadata": {},
     "output_type": "execute_result"
    }
   ],
   "source": [
    "# prompt 생성\n",
    "prompt = prompt_template.format(country=\"미국\")\n",
    "prompt\n"
   ]
  },
  {
   "cell_type": "code",
   "execution_count": 6,
   "metadata": {},
   "outputs": [],
   "source": [
    "from langchain_openai import ChatOpenAI\n",
    "\n",
    "model = ChatOpenAI(\n",
    "    model=\"gpt-3.5-turbo\",\n",
    "    max_tokens=2048,\n",
    "    temperature=0.1,\n",
    ")\n"
   ]
  },
  {
   "cell_type": "code",
   "execution_count": 7,
   "metadata": {},
   "outputs": [],
   "source": [
    "from langchain_core.output_parsers import StrOutputParser\n",
    "\n",
    "output = StrOutputParser()"
   ]
  },
  {
   "cell_type": "code",
   "execution_count": 10,
   "metadata": {},
   "outputs": [
    {
     "name": "stdout",
     "output_type": "stream",
     "text": [
      "영어 회화:\n",
      "- Waiter: Good evening! Welcome to our restaurant. How may I help you today?\n",
      "- Customer: Hi, good evening! I'd like to see the menu, please.\n",
      "- Waiter: Of course, here you go. Our special for today is the grilled salmon. It's really popular among our guests.\n",
      "- Customer: That sounds delicious. I'll have the grilled salmon, please.\n",
      "- Waiter: Great choice! Would you like anything to drink?\n",
      "- Customer: Yes, could I have a glass of white wine, please?\n",
      "- Waiter: Certainly. Your order will be ready shortly. Please, enjoy your meal.\n",
      "\n",
      "한글 해석:\n",
      "- 웨이터: 안녕하세요! 우리 식당에 오신 것을 환영합니다. 오늘 어떻게 도와드릴까요?\n",
      "- 손님: 안녕하세요! 메뉴판 좀 볼 수 있을까요?\n",
      "- 웨이터: 물론입니다, 여기 있습니다. 오늘의 특선은 그릴에 구운 연어입니다. 우리 손님들 사이에서 정말 인기가 많아요.\n",
      "- 손님: 듣기에 맛있어 보이네요. 그릴에 구운 연어 주세요.\n",
      "- 웨이터: 좋은 선택이십니다! 음료는 뭘로 드릴까요?\n",
      "- 손님: 네, 화이트 와인 한 잔 주세요.\n",
      "- 웨이터: 알겠습니다. 곧 준비해서 드리겠습니다. 맛있게 드세요.\n"
     ]
    }
   ],
   "source": [
    "# 주어진 나라에 대하여 수도를 묻는 프롬프트 템플릿을 생성합니다.\n",
    "# prompt = PromptTemplate.from_template(\"{country}의 수도는 어디인가요?\")\n",
    "\n",
    "# 주어진 나라에 대하여 수도를 묻는 프롬프트 템플릿을 생성합니다.\n",
    "template = \"\"\"\n",
    "당신은 친절하게 답변해 주는 친절 봇입니다. 사용자의 질문에 [FORMAT]에 맞추어 답변해 주세요.\n",
    "답변은 항상 한글로 작성해 주세요.\n",
    "\n",
    "질문:\n",
    "{question}에 대하여 설명해 주세요.\n",
    "\n",
    "FORMAT:\n",
    "- 개요:\n",
    "- 예시:\n",
    "- 출처:\n",
    "\"\"\"\n",
    "\n",
    "template = \"\"\"\n",
    "당신은 영어를 가르치는 10년차 영어 선생님입니다. 상황에 [FORMAT]에 영어 회화를 작성해 주세요.\n",
    "\n",
    "상황:\n",
    "{question}\n",
    "\n",
    "FORMAT:\n",
    "- 영어 회화:\n",
    "- 한글 해석:\n",
    "\"\"\"\n",
    "\n",
    "\n",
    "prompt = PromptTemplate.from_template(template)\n",
    "\n",
    "\n",
    "# OpenAI 챗모델을 초기화합니다.\n",
    "model = ChatOpenAI(model=\"gpt-4-turbo-preview\")\n",
    "# 문자열 출력 파서를 초기화합니다.\n",
    "output_parser = StrOutputParser()\n",
    "\n",
    "# 프롬프트, 모델, 출력 파서를 연결하여 처리 체인을 구성합니다.\n",
    "chain = prompt | model | output_parser\n",
    "\n",
    "# 완성된 Chain 을 이용하여 country 를 '대한민국'으로 설정하여 실행합니다.\n",
    "# chain.invoke({\"country\": \"대한민국\"})\n",
    "print(chain.invoke({\"question\": \"저는 식당에 가서 음식을 주문하고 싶어요\"}))"
   ]
  },
  {
   "cell_type": "code",
   "execution_count": 11,
   "metadata": {},
   "outputs": [
    {
     "name": "stdout",
     "output_type": "stream",
     "text": [
      "영어 회화:\n",
      "- Customer: Hi, I'd like to order a large pepperoni pizza with extra cheese, please.\n",
      "- Pizza Place Employee: Sure thing! Would you like to add any sides or drinks to your order today?\n",
      "- Customer: Yes, let's add an order of garlic knots and a 2-liter bottle of Coke.\n",
      "- Pizza Place Employee: Got it. That'll be a large pepperoni pizza with extra cheese, an order of garlic knots, and a 2-liter Coke. Will this be for delivery or pickup?\n",
      "- Customer: Delivery, please.\n",
      "- Pizza Place Employee: Can I have your address, please?\n",
      "- Customer: It's 123 Oak Street, Apartment 4B.\n",
      "- Pizza Place Employee: Okay, your total comes to $29.95. We'll have that delivered to you in about 30-40 minutes. May I have your phone number for the delivery?\n",
      "- Customer: Sure, it's 555-123-4567.\n",
      "- Pizza Place Employee: Thank you! We'll call you when the driver is on their way. Have a great day!\n",
      "- Customer: Thank you, you too!\n",
      "\n",
      "한글 해석:\n",
      "- 고객: 안녕하세요, 대형 페퍼로니 피자에 치즈 추가로 주문하고 싶어요.\n",
      "- 피자 가게 직원: 알겠습니다! 오늘 주문에 사이드 메뉴나 음료 추가하실 건가요?\n",
      "- 고객: 네, 마늘 노트 한 세트와 코카콜라 2리터 한 병 추가할게요.\n",
      "- 피자 가게 직원: 알겠습니다. 대형 페퍼로니 피자에 치즈 추가, 마늘 노트 한 세트, 그리고 코카콜라 2리터요. 배달로 드릴까요, 아니면 픽업하실 건가요?\n",
      "- 고객: 배달로 부탁드려요.\n",
      "- 피자 가게 직원: 배달 주소 알려주시겠어요?\n",
      "- 고객: 123 오크 스트리트, 아파트 4B예요.\n",
      "- 피자 가게 직원: 알겠습니다, 총 금액은 $29.95입니다. 대략 30-40분 내로 배달될 예정이에요. 배달을 위해 전화번호 좀 알려주시겠어요?\n",
      "- 고객: 네, 555-123-4567이에요.\n",
      "- 피자 가게 직원: 감사합니다! 배달 기사님이 출발하시면 전화드리겠습니다. 좋은 하루 되세요!\n",
      "- 고객: 고맙습니다, 당신도요!\n"
     ]
    }
   ],
   "source": [
    "# 완성된 Chain 을 이용하여 question 를 '미국에서 피자 주문'으로 설정하여 실행합니다.\n",
    "print(chain.invoke({\"question\": \"미국에서 피자 주문\"}))\n"
   ]
  },
  {
   "cell_type": "code",
   "execution_count": 12,
   "metadata": {},
   "outputs": [
    {
     "data": {
      "text/plain": [
       "AIMessage(content=\"양자역학은 아주 작은 세계, 즉 원자와 같은 미시적인 입자들의 운동과 상호작용을 설명하는 물리학의 한 분야입니다. 우리가 일상에서 경험하는 고전물리학의 법칙들이 이 미시세계에서는 적용되지 않는다는 것이 밝혀지면서, 20세기 초에 양자역학이 등장하게 되었습니다.\\n\\n양자역학을 이해하기 위해서는 몇 가지 기본 개념을 알아야 합니다:\\n\\n1. **양자**: 가장 작은 에너지 단위로, 물질이나 빛 같은 것들이 이런 '양자'라는 작은 단위로만 에너지를 흡수하거나 방출한다는 개념입니다. 즉, 에너지가 연속적이 아니라 불연속적인 단위로 존재한다는 것을 의미합니다.\\n\\n2. **파동-입자 이중성**: 빛이나 전자 같은 입자들은 때로는 파동처럼, 때로는 입자처럼 행동한다는 것입니다. 이를 파동-입자 이중성이라고 하며, 이 현상은 양자역학에서만 나타납니다.\\n\\n3. **헤이젠베르크의 불확정성 원리**: 입자의 위치와 운동량(속도와 질량의 곱)을 동시에 정확하게 알 수 없다는 원리입니다. 즉, 한 입자의 위치를 더 정확히 알려고 하면 그 입자의 운동량에 대한 정보는 더 불확실해집니다. 이는 관측하는 행위 자체가 입자에 영향을 미치기 때문입니다.\\n\\n4. **양자 중첩**: 입자가 여러 상태에 동시에 존재할 수 있다는 개념입니다. 예를 들어, 전자가 동시에 여러 위치에 있을 수 있다는 것을 의미합니다. 이러한 중첩 상태는 관측되는 순간 하나의 특정 상태로 '붕괴'됩니다.\\n\\n5. **양자 얽힘**: 두 입자가 서로 얽혀서 한 입자의 상태를 바꾸면 즉시 다른 입자의 상태도 바뀌는 현상을 말합니다. 이 현상은 입자들이 얼마나 멀리 떨어져 있든 상관없이 일어납니다.\\n\\n양자역학은 이와 같은 비직관적이고 독특한 현상들을 설명하고, 이를 기반으로 하는 기술들(예: 트랜지스터, 레이저, 양자 컴퓨팅 등)이 우리의 삶을 크게 변화시키고 있습니다. 하지만 여전히 양자역학의 많은 부분은 연구 중이며, 그 깊은 이해를 위해 세계 각국의 과학자들이 연구를 계속하고 있습니다.\", response_metadata={'token_usage': {'completion_tokens': 896, 'prompt_tokens': 26, 'total_tokens': 922}, 'model_name': 'gpt-4-turbo-preview', 'system_fingerprint': None, 'finish_reason': 'stop', 'logprobs': None}, id='run-da1d8e8e-8b4a-4352-9fe4-15eeded85424-0')"
      ]
     },
     "execution_count": 12,
     "metadata": {},
     "output_type": "execute_result"
    }
   ],
   "source": [
    "# prompt 를 PromptTemplate 객체로 생성합니다.\n",
    "prompt = PromptTemplate.from_template(\"{topic} 에 대해 쉽게 설명해주세요.\")\n",
    "\n",
    "# input 딕셔너리에 주제를 'ice cream'으로 설정합니다.\n",
    "input = {\"topic\": \"양자역학\"}\n",
    "\n",
    "# prompt 객체의 invoke 메서드를 사용하여 input을 전달하고 대화형 프롬프트 값을 생성합니다.\n",
    "prompt.invoke(input)\n",
    "\n",
    "# prompt 객체와 model 객체를 파이프(|) 연산자로 연결하고 invoke 메서드를 사용하여 input을 전달합니다.\n",
    "# 이를 통해 AI 모델이 생성한 메시지를 반환합니다.\n",
    "(prompt | model).invoke(input)"
   ]
  },
  {
   "cell_type": "code",
   "execution_count": 13,
   "metadata": {},
   "outputs": [
    {
     "data": {
      "text/plain": [
       "\"양자역학은 물리학의 한 분야로, 아주 작은 입자들의 운동과 상호작용을 설명하는 이론입니다. 전통적인 뉴턴 역학이나 고전 물리학이 큰 물체의 운동을 설명하는 데 주로 사용된다면, 양자역학은 원자와 전자와 같은 미시 세계의 입자들을 설명하는 데 필수적입니다.\\n\\n양자역학의 몇 가지 중요한 개념을 쉽게 설명해보겠습니다:\\n\\n1. **파동-입자 이중성**: 양자역학에서는 입자(예: 전자)가 때로는 입자로, 때로는 파동으로 행동할 수 있음을 나타냅니다. 이는 빛이나 전자와 같은 입자들이 실험에 따라 파동처럼 분산되거나 입자처럼 정확한 위치에 충돌하는 것을 관찰할 수 있다는 것을 의미합니다.\\n\\n2. **불확정성 원리**: 하이젠베르크의 불확정성 원리에 따르면, 어떤 입자의 위치와 운동량(속도와 질량의 곱)을 동시에 정확하게 알 수 없습니다. 즉, 입자의 위치를 정확히 알수록 그 입자의 속도는 더 불확실해지고, 반대로 속도를 정확히 알수록 그 위치는 더 불확실해집니다. 이는 양자 세계의 기본적인 특성으로, 우리가 흔히 경험하는 일상 세계와는 매우 다릅니다.\\n\\n3. **양자 중첩**: 양자역학에서는 입자가 여러 상태의 '중첩' 상태에 있을 수 있습니다. 즉, 한 입자가 동시에 여러 위치나 상태에 존재할 수 있다는 것입니다. 이는 슈뢰딩거의 고양이 실험에서 잘 알려진 개념으로, 관측되기 전까지는 고양이가 살아 있으면서 동시에 죽어 있는 상태에 있을 수 있음을 의미합니다.\\n\\n4. **양자 얽힘**: 두 입자가 얽혀 있으면, 한 입자의 상태를 측정하면 즉시 다른 입자의 상태도 결정됩니다. 이는 두 입자가 물리적으로 멀리 떨어져 있어도 적용되며, 양자 얽힘은 정보 전송이나 양자 컴퓨팅과 같은 분야에서 중요한 역할을 합니다.\\n\\n양자역학은 우리가 눈으로 볼 수 없는 미시 세계를 이해하는 데 필수적이며, 현대 기술과 과학에 많은 영향을 미치고 있습니다. 이러한 이론 덕분에 반도체, 레이저, 양자 컴퓨팅 등 현대 생활에서 중요한 많은 발명과 발견이 가능해졌습니다.\""
      ]
     },
     "execution_count": 13,
     "metadata": {},
     "output_type": "execute_result"
    }
   ],
   "source": [
    "# parse_output 메서드를 사용하여 AI 모델이 생성한 메시지 문자열로 출력합니다.\n",
    "(prompt | model | output_parser).invoke(input)"
   ]
  },
  {
   "cell_type": "code",
   "execution_count": null,
   "metadata": {},
   "outputs": [],
   "source": []
  }
 ],
 "metadata": {
  "kernelspec": {
   "display_name": "Python 3",
   "language": "python",
   "name": "python3"
  },
  "language_info": {
   "codemirror_mode": {
    "name": "ipython",
    "version": 3
   },
   "file_extension": ".py",
   "mimetype": "text/x-python",
   "name": "python",
   "nbconvert_exporter": "python",
   "pygments_lexer": "ipython3",
   "version": "3.12.1"
  }
 },
 "nbformat": 4,
 "nbformat_minor": 2
}
